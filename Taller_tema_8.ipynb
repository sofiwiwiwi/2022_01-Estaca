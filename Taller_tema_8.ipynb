{
  "cells": [
    {
      "cell_type": "markdown",
      "metadata": {
        "id": "SS86rpNL9Ufv"
      },
      "source": [
        "# Taller T8 I-2022"
      ]
    },
    {
      "cell_type": "markdown",
      "metadata": {
        "id": "hD1j-9QQLze9"
      },
      "source": [
        "<table align='left'>\n",
        "<tr>\n",
        "<td><img src='https://norbertbiedrzycki.pl/wp-content/uploads/2020/03/AI-legal-regulations-Norbert-Biedrzycki-blog-3.jpg' width='750'/></td>\n",
        "</tr>\n",
        "</table>\n"
      ]
    },
    {
      "cell_type": "markdown",
      "metadata": {
        "id": "i8i4L2uJ4lj9"
      },
      "source": [
        "|      Nombre       |     ROL     | \n",
        "|-------------------|-------------|\n",
        "| Sofía Riquelme    | 202073615-4 | \n",
        "| Vicente Ruiz      | 202073585-9 |\n",
        "| Bayron Valenzuela | 202073580-8 | \n"
      ]
    },
    {
      "cell_type": "markdown",
      "metadata": {
        "id": "KULeq6-zhXTZ"
      },
      "source": [
        "Los recientes progresos en inteligencia artificial están ampliando el impacto que esta tecnología puede tener en nuestras vidas. Con ello, la preocupación por los aspectos éticos detrás de las \"decisiones\" automáticas que estos sistemas implementan ha causado gran debate. Por ejemplo, desde hace algunos años, el sistema penal varios países ha comenzado a apoyarse en algoritmos \"inteligentes\" que predicen la probabilidad de reincidencia de un sujeto en base a una serie de atributos (como respuestas a un test). \n",
        "\n",
        "*¿Qué tan imparciales son estos algoritmos? ¿Reproducen los sesgos que observamos en el mundo humano? ¿Es necesario intervenir estas máquinas de modo que sus decisiones no se basen en atributos protegidos?*\n",
        "\n",
        "En este taller aplicaremos conceptos del Tema 8 para analizar las predicciones de un algoritmo utilizado para predecir riesgo de reincidencia en algunos estados de Estados Unidos.\n"
      ]
    },
    {
      "cell_type": "markdown",
      "metadata": {
        "id": "Uy7o-VE6wgNg"
      },
      "source": [
        "# Librerías"
      ]
    },
    {
      "cell_type": "code",
      "execution_count": null,
      "metadata": {
        "id": "Fnn3KM_QwieF"
      },
      "outputs": [],
      "source": [
        "import pandas as pd\n",
        "import numpy as np\n",
        "import seaborn as sns; sns.set()\n",
        "import matplotlib.pyplot as plt\n",
        "import warnings\n",
        "warnings.filterwarnings(\"ignore\")\n",
        "\n",
        "##############################################################\n",
        "\n",
        "from scipy.stats import norm\n"
      ]
    },
    {
      "cell_type": "markdown",
      "metadata": {
        "id": "yu2fyuuKhfQo"
      },
      "source": [
        "# Datos"
      ]
    },
    {
      "cell_type": "markdown",
      "metadata": {
        "id": "l3AiWncZhg-2"
      },
      "source": [
        "Los datos pueden ser descargados vía línea de comandos desde la dirección indicada abajo. "
      ]
    },
    {
      "cell_type": "code",
      "execution_count": null,
      "metadata": {
        "colab": {
          "base_uri": "https://localhost:8080/"
        },
        "id": "JTb8zJpk9YIU",
        "outputId": "5a3d00a8-8d79-46ed-e926-bac9b0839979"
      },
      "outputs": [
        {
          "name": "stdout",
          "output_type": "stream",
          "text": [
            "URL transformed to HTTPS due to an HSTS policy\n",
            "--2022-07-20 23:32:55--  https://www.inf.utfsm.cl/~jnancu/compas-scores-two-years.csv\n",
            "Resolving www.inf.utfsm.cl (www.inf.utfsm.cl)... 200.1.19.11, 2800:270:c::11\n",
            "Connecting to www.inf.utfsm.cl (www.inf.utfsm.cl)|200.1.19.11|:443... connected.\n",
            "HTTP request sent, awaiting response... 200 OK\n",
            "Length: 2546489 (2.4M) [application/octet-stream]\n",
            "Saving to: ‘compas-scores-two-years.csv’\n",
            "\n",
            "compas-scores-two-y 100%[===================>]   2.43M  2.31MB/s    in 1.1s    \n",
            "\n",
            "2022-07-20 23:32:57 (2.31 MB/s) - ‘compas-scores-two-years.csv’ saved [2546489/2546489]\n",
            "\n"
          ]
        }
      ],
      "source": [
        "!wget www.inf.utfsm.cl/~jnancu/compas-scores-two-years.csv  -O compas-scores-two-years.csv"
      ]
    },
    {
      "cell_type": "markdown",
      "metadata": {
        "id": "pmXEo6S2hsTl"
      },
      "source": [
        "El dataset contiene información de una muestra de personas arrestadas en el condado de Broward (Florida) entre 2013 y 2014. Cada fila es un caso de arresto diferente. El algoritmo de interés se basa en las respuestas que una persona presenta a una serie de preguntas y está diseñado para predecir el *riesgo de reincidencia** en los 2 años posteriores a la liberación. Se han incluido en el dataset sólo casos de personas que, después de liberadas, fueron nuevamente condenadas durante los 2 años posteriores a su liberación, o bien de personas que no cometieron nuevos delitos durante los 2 años posteriores a su liberación. Siguiendo recomendaciones de los autores del dataset, se excluirán del análisis los casos en que el test para el algoritmo fue aplicado antes de 30 días de la fecha declarada del arresto (esto es un error) o después de 30 días de la fecha del arresto (caso muy inusual). También se excluirán casos de personas que fueron analizadas por el algoritmo."
      ]
    },
    {
      "cell_type": "markdown",
      "metadata": {
        "id": "6CE49gZlwRHR"
      },
      "source": [
        "Para facilitar las operaciones de filtrado, transformaremos el archivo csv en un dataframe de pandas."
      ]
    },
    {
      "cell_type": "code",
      "execution_count": null,
      "metadata": {
        "colab": {
          "base_uri": "https://localhost:8080/"
        },
        "id": "DfRZMTZKwfRI",
        "outputId": "e4fe6608-1440-4a5c-8cd9-f17adcc0a398"
      },
      "outputs": [
        {
          "name": "stdout",
          "output_type": "stream",
          "text": [
            "6172\n",
            "   id              name   first       last compas_screening_date   sex  \\\n",
            "0   1  miguel hernandez  miguel  hernandez            2013-08-14  Male   \n",
            "1   3       kevon dixon   kevon      dixon            2013-01-27  Male   \n",
            "2   4          ed philo      ed      philo            2013-04-14  Male   \n",
            "5   7      marsha miles  marsha      miles            2013-11-30  Male   \n",
            "6   8     edward riddle  edward     riddle            2014-02-19  Male   \n",
            "\n",
            "          dob  age          age_cat              race  ...  v_decile_score  \\\n",
            "0  1947-04-18   69  Greater than 45             Other  ...               1   \n",
            "1  1982-01-22   34          25 - 45  African-American  ...               1   \n",
            "2  1991-05-14   24     Less than 25  African-American  ...               3   \n",
            "5  1971-08-22   44          25 - 45             Other  ...               1   \n",
            "6  1974-07-23   41          25 - 45         Caucasian  ...               2   \n",
            "\n",
            "   v_score_text  v_screening_date  in_custody  out_custody  priors_count.1  \\\n",
            "0           Low        2013-08-14  2014-07-07   2014-07-14               0   \n",
            "1           Low        2013-01-27  2013-01-26   2013-02-05               0   \n",
            "2           Low        2013-04-14  2013-06-16   2013-06-16               4   \n",
            "5           Low        2013-11-30  2013-11-30   2013-12-01               0   \n",
            "6           Low        2014-02-19  2014-03-31   2014-04-18              14   \n",
            "\n",
            "  start  end event two_year_recid  \n",
            "0     0  327     0              0  \n",
            "1     9  159     1              1  \n",
            "2     0   63     0              1  \n",
            "5     1  853     0              0  \n",
            "6     5   40     1              1  \n",
            "\n",
            "[5 rows x 53 columns]\n",
            "Index(['id', 'name', 'first', 'last', 'compas_screening_date', 'sex', 'dob',\n",
            "       'age', 'age_cat', 'race', 'juv_fel_count', 'decile_score',\n",
            "       'juv_misd_count', 'juv_other_count', 'priors_count',\n",
            "       'days_b_screening_arrest', 'c_jail_in', 'c_jail_out', 'c_case_number',\n",
            "       'c_offense_date', 'c_arrest_date', 'c_days_from_compas',\n",
            "       'c_charge_degree', 'c_charge_desc', 'is_recid', 'r_case_number',\n",
            "       'r_charge_degree', 'r_days_from_arrest', 'r_offense_date',\n",
            "       'r_charge_desc', 'r_jail_in', 'r_jail_out', 'violent_recid',\n",
            "       'is_violent_recid', 'vr_case_number', 'vr_charge_degree',\n",
            "       'vr_offense_date', 'vr_charge_desc', 'type_of_assessment',\n",
            "       'decile_score.1', 'score_text', 'screening_date',\n",
            "       'v_type_of_assessment', 'v_decile_score', 'v_score_text',\n",
            "       'v_screening_date', 'in_custody', 'out_custody', 'priors_count.1',\n",
            "       'start', 'end', 'event', 'two_year_recid'],\n",
            "      dtype='object')\n"
          ]
        }
      ],
      "source": [
        "df = pd.read_csv('compas-scores-two-years.csv')\n",
        "df = df[df['days_b_screening_arrest'] <= 30]\n",
        "df = df[df['days_b_screening_arrest'] >= -30]\n",
        "df = df[df['is_recid'] != -1]\n",
        "print(len(df))\n",
        "\n",
        "print(df.head())\n",
        "print(df.columns)"
      ]
    },
    {
      "cell_type": "markdown",
      "metadata": {
        "id": "iJrBVUtUwN12"
      },
      "source": [
        "**Groundtruth.** La variable 'two_year_recid' indica si la persona efectivamente reincidió antes de 2 años de ser liberada ('two_year_recid'==1) o no ('two_year_recid'==0). La variable 'is_recid' indica si la persona reincidió antes del la fecha en que capturaron los datos. Puede ocurrir (200 casos) que una persona tenga 'two_year_recid'==0 pero 'is_recid'==1. \n",
        "\n",
        "**Predicción.** La predicción del algoritmo está disponible en dos escalas. La variable 'score_text' puede tomar tres valores: 'High', 'Medium', y 'Low' que corresponden a un riesgo de reincidencia alto, medio, y bajo, respectivamente. Estas predicciones serán tratadas como categóricas. La variable 'decile_score' toma valores de 1 a 10 que corresponden a los deciles de riesgo que predice el algoritmo: 1 significa que la persona está en el primer decil de riesgo, 2 que está en el segundo decil de riesgo, etc. Estas predicciones serán tratadas como numéricas. \n",
        "\n",
        "**Variables.** Además de la predicción del algoritmo, el dataset incluye una serie de atriubutos interesantes entre los que destacaremos: el sexo, edad y raza de la persona. El sexo ('sex') se encuentra en escala binaria ('Male', 'Female'). La edad se encuentra disponible en escala numérica ('age') y categórica ('age_cat'). En este último caso se usan tres niveles: '25 - 45' 'Greater than 45' 'Less than 25'. La raza ('race') es una variable categórica con valores posibles: 'Caucasian', 'African-American', 'Asian', 'Hispanic' , 'Native American', 'Other'.\n",
        "\n"
      ]
    },
    {
      "cell_type": "markdown",
      "metadata": {
        "id": "1cZsQd-ZIojY"
      },
      "source": [
        "# Mini Exploratorio"
      ]
    },
    {
      "cell_type": "code",
      "execution_count": null,
      "metadata": {
        "colab": {
          "base_uri": "https://localhost:8080/"
        },
        "id": "pmzEGOYmE-6F",
        "outputId": "43637e39-4692-47db-b343-c0a4863f0e98"
      },
      "outputs": [
        {
          "data": {
            "image/png": "[encoded data removed]",
            "text/plain": [
              "<Figure size 576x288 with 1 Axes>"
            ]
          },
          "metadata": {
            "needs_background": "light"
          },
          "output_type": "display_data"
        }
      ],
      "source": [
        "f = plt.figure(figsize=(8,4))\n",
        "ax = f.add_axes([0.1, 0.1, 0.9, 0.9])\n",
        "sns.distplot(df['age'].values, ax=ax, rug=True, hist=True, kde_kws={\"shade\": True}, label = 'los angeles')\n",
        "ax.set_title('Edad')\n",
        "plt.show()"
      ]
    },
    {
      "cell_type": "code",
      "execution_count": null,
      "metadata": {
        "colab": {
          "base_uri": "https://localhost:8080/"
        },
        "id": "BpMNZTdb3tqE",
        "outputId": "9b247afe-3ac1-4a2f-e454-9e70f6d5cda2"
      },
      "outputs": [
        {
          "name": "stdout",
          "output_type": "stream",
          "text": [
            "1: reincidente, 0: no reincidente\n"
          ]
        },
        {
          "data": {
            "image/png": "[encoded data removed]",
            "text/plain": [
              "<Figure size 576x288 with 1 Axes>"
            ]
          },
          "metadata": {
            "needs_background": "light"
          },
          "output_type": "display_data"
        }
      ],
      "source": [
        "print(\"1: reincidente, 0: no reincidente\")\n",
        "\n",
        "f = plt.figure(figsize=(8,4))\n",
        "ax = f.add_axes([0.1, 0.1, 0.9, 0.9])\n",
        "df.groupby('two_year_recid').score_text.value_counts().unstack(0).plot.bar(ax=ax)\n",
        "ax.set_title('Reincidentes y Riesgo Predicho por el Algoritmo')\n",
        "ax.set_ylabel('# casos (frecuencia absoluta)')\n",
        "ax.legend(loc='upper left', bbox_to_anchor=(1, 0.95))\n",
        "plt.show()\n"
      ]
    },
    {
      "cell_type": "code",
      "execution_count": null,
      "metadata": {
        "colab": {
          "base_uri": "https://localhost:8080/"
        },
        "id": "YN3qZ9hPGAfK",
        "outputId": "13832241-fe54-409f-8235-b6a8d438955e"
      },
      "outputs": [
        {
          "data": {
            "image/png": "[encoded data removed]",
            "text/plain": [
              "<Figure size 576x288 with 1 Axes>"
            ]
          },
          "metadata": {
            "needs_background": "light"
          },
          "output_type": "display_data"
        }
      ],
      "source": [
        "f = plt.figure(figsize=(8,4))\n",
        "ax = f.add_axes([0.1, 0.1, 0.9, 0.9])\n",
        "df.groupby('age_cat').score_text.value_counts().unstack(0).plot.bar(ax=ax)\n",
        "ax.set_title('Categorías de Edad y Nivel de Riesgo')\n",
        "ax.set_ylabel('# casos (frecuencia absoluta)')\n",
        "ax.legend(loc='upper left', bbox_to_anchor=(1, 0.95))\n",
        "plt.show()"
      ]
    },
    {
      "cell_type": "code",
      "execution_count": null,
      "metadata": {
        "colab": {
          "base_uri": "https://localhost:8080/"
        },
        "id": "Zi2d8MyoHsDu",
        "outputId": "820bb444-3abc-467a-b6f3-252ec1d2ad01"
      },
      "outputs": [
        {
          "data": {
            "image/png": "[encoded data removed]",
            "text/plain": [
              "<Figure size 576x288 with 1 Axes>"
            ]
          },
          "metadata": {
            "needs_background": "light"
          },
          "output_type": "display_data"
        }
      ],
      "source": [
        "f = plt.figure(figsize=(8,4))\n",
        "ax = f.add_axes([0.1, 0.1, 0.9, 0.9])\n",
        "df.groupby('sex').score_text.value_counts().unstack(0).plot.bar(ax=ax)\n",
        "ax.set_title('Sexo y Nivel de Riesgo')\n",
        "ax.set_ylabel('# casos (frecuencia absoluta)')\n",
        "ax.legend(loc='upper left', bbox_to_anchor=(1, 0.95))\n",
        "plt.show()"
      ]
    },
    {
      "cell_type": "code",
      "execution_count": null,
      "metadata": {
        "colab": {
          "base_uri": "https://localhost:8080/"
        },
        "id": "P43Q-7U3G1dW",
        "outputId": "d2d0f7f4-5ae7-41e3-dfdf-0cf2dfa44de0"
      },
      "outputs": [
        {
          "data": {
            "image/png": "[encoded data removed]",
            "text/plain": [
              "<Figure size 576x288 with 1 Axes>"
            ]
          },
          "metadata": {
            "needs_background": "light"
          },
          "output_type": "display_data"
        }
      ],
      "source": [
        "f = plt.figure(figsize=(8,4))\n",
        "ax = f.add_axes([0.1, 0.1, 0.9, 0.9])\n",
        "df.groupby('race').score_text.value_counts().unstack(0).plot.bar(ax=ax)\n",
        "ax.set_title('Categorías Raciales por Nivel de Riesgo')\n",
        "ax.set_ylabel('# casos (frecuencia absoluta)')\n",
        "ax.legend(loc='upper left', bbox_to_anchor=(1, 0.95))\n",
        "plt.show()"
      ]
    },
    {
      "cell_type": "code",
      "execution_count": null,
      "metadata": {
        "colab": {
          "base_uri": "https://localhost:8080/"
        },
        "id": "bmbyFk-nIujU",
        "outputId": "01b0718a-b508-4561-fada-55facc103090"
      },
      "outputs": [
        {
          "data": {
            "image/png": "[encoded data removed]",
            "text/plain": [
              "<Figure size 576x288 with 1 Axes>"
            ]
          },
          "metadata": {
            "needs_background": "light"
          },
          "output_type": "display_data"
        }
      ],
      "source": [
        "f = plt.figure(figsize=(8,4))\n",
        "ax = f.add_axes([0.1, 0.1, 0.9, 0.9])\n",
        "df.groupby('decile_score').decile_score.value_counts().plot.bar(ax=ax)\n",
        "ax.set_xticklabels([1,2,3,4,5,6,7,8,9,10])\n",
        "ax.set_title('Predicción Numérica de Riesgo')\n",
        "ax.set_xlabel('Predicción')\n",
        "ax.set_ylabel('# casos (frecuencia absoluta)')\n",
        "\n",
        "plt.show()"
      ]
    },
    {
      "cell_type": "markdown",
      "metadata": {
        "id": "KknvDAeG2V9j"
      },
      "source": [
        "# Actividades"
      ]
    },
    {
      "cell_type": "markdown",
      "metadata": {
        "id": "Rz10fPpxlwSV"
      },
      "source": [
        "Un primer criterio para evaluar los eventuales \"sesgos\" (biases) de una IA consiste en determinar si selecciona algún atributo \"protegido\" de las personas como ***factor*** de decisión. En este taller, partiremos considerando el efecto de los factores raza, edad, y sexo en la decisión de la máquina de clasificar a una persona como de \"alto riesgo de reincidencia\". \n",
        "\n",
        "Otro criterio bastante común para evaluar el nivel de imparcialidad (\"fairness\") de una IA es comparar su ***eficacia*** en los diferentes grupos/segmentos de la población que se crean al considerar un atributo \"protegido\". En este taller, analizaremos el efecto de los factores raza, edad, y sexo, en los ***falsos positivos*** de la IA, es decir, la probabilidad de que la máquina haya clasificado una persona como de Alto Riesgo cuando en realidad la persona no reincidió después de ser liberada ('two_year_recid' != 1). "
      ]
    },
    {
      "cell_type": "markdown",
      "metadata": {
        "id": "sY5_SSxaqz22"
      },
      "source": [
        "Cierre esta sección comentando porqué podría ser inadecuado conducir el análisis condicionando al factor bajo estudio (e.g. raza) para luego comparar la proporción de personas de ese grupo que la IA clasifica como de alto riesgo con la proporción de personas que la IA clasifica como de bajo riesgo. "
      ]
    },
    {
      "cell_type": "code",
      "execution_count": null,
      "metadata": {
        "id": "-_H69GvY9Kkx"
      },
      "outputs": [],
      "source": [
        "my_alpha=0.01\n",
        "\n",
        "df_alto_riesgo = df[df['score_text']=='High']\n",
        "df_bajo_riesgo = df[df['score_text']=='Low']\n"
      ]
    },
    {
      "cell_type": "markdown",
      "metadata": {
        "id": "JbHN9DOdoxNx"
      },
      "source": [
        "## A) Raza, Edad, y Sexo en las Decisiones de la IA"
      ]
    },
    {
      "cell_type": "markdown",
      "metadata": {
        "id": "iUqLQhfOo3WV"
      },
      "source": [
        "1.   Diseñe un contraste que permita evaluar la hipótesis de que *la proporción de afroamericanos en P1 es mayor que la proporción de afroamericanos en P2*. Diseñe su contraste de manera que la probabilidad de aceptar incorrectamente esta conjetura es menor al 1%. Exponga con claridad la hipótesis, la región crítica, y la decisión que corresponde tomar. Justifique su elección de H1."
      ]
    },
    {
      "cell_type": "markdown",
      "metadata": {
        "id": "H39Ai19st_ug"
      },
      "source": [
        "Las hipotesis a considerar son: \n",
        "\n",
        "*   H<sub>0</sub> : P1 = P2 \n",
        "*   H<sub>1</sub> : P1 > P2\n",
        "\n",
        "Como rechazar la hipotesis de P1 = P2 abre la discusion sobre sesgos en la IA en cuanto a un factor protegido, se toma la decision de asignar dicha igualdad a H<sub>0</sub>. Por otro lado H<sub>1</sub> modela la desigualdad deseada y ejempifica el sesgo que se quiere evitar. \n",
        "\n",
        "Mientras que el estadistico de contraste es:\n",
        "\n",
        "![image.png](data:image/png;base64,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)"
      ]
    },
    {
      "cell_type": "markdown",
      "metadata": {
        "id": "IPwWbi_Ivkq0"
      },
      "source": [
        "Para realizar un test sobre H<sub>0</sub>, este se asume verdadero. Ademas para que el error tipo 1 sea menor al 1% se considera una significancia del 0,01. Entonces la region critica es: \n",
        "\n",
        "*   Z<sub>0</sub> > Z<sub>0.01</sub> \n",
        "\n",
        "\n",
        "\n",
        "\n",
        "Donde Z<sub>0</sub> es Z asumiendo H<sub>0</sub> verdadero, es decir: \\\\\n",
        "![image.png](data:image/png;base64,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)\n",
        "\\\n",
        "Notar que Z<sub>0.01</sub> es Z<sub>α</sub> con el valor adecuado de significacion "
      ]
    },
    {
      "cell_type": "code",
      "execution_count": null,
      "metadata": {
        "colab": {
          "base_uri": "https://localhost:8080/"
        },
        "id": "o8wgvPvAo-Cp",
        "outputId": "cac4a1eb-d64a-4b21-bc01-7954bf9dc17a"
      },
      "outputs": [
        {
          "name": "stdout",
          "output_type": "stream",
          "text": [
            "0.01\n"
          ]
        },
        {
          "data": {
            "text/plain": [
              "2.3263478740408408"
            ]
          },
          "execution_count": 11,
          "metadata": {},
          "output_type": "execute_result"
        }
      ],
      "source": [
        "# Valor de Z tal que su significancia es 0.01\n",
        "print(my_alpha)\n",
        "norm.ppf(.99, 0, 1)"
      ]
    },
    {
      "cell_type": "code",
      "execution_count": null,
      "metadata": {
        "colab": {
          "base_uri": "https://localhost:8080/"
        },
        "id": "B6RlqxcHpSoR",
        "outputId": "b79ddb33-0aaa-49c9-a9da-30cffd6793df"
      },
      "outputs": [
        {
          "name": "stdout",
          "output_type": "stream",
          "text": [
            "Para P1 al dividir las 845 personas en el total poblacional de 1144 se obtiene la proporcion muestral para P1 0.7386363636363636\n",
            "Para P2 al dividir las 1346 personas en el total poblacional de 3421 se obtiene la proporcion muestral para P2 0.3934522069570301\n"
          ]
        }
      ],
      "source": [
        "totalP1 = df_alto_riesgo.shape[0]\n",
        "totalP2 = df_bajo_riesgo.shape[0]\n",
        "\n",
        "cantidadAA_P1 = df_alto_riesgo['race'].value_counts()['African-American']\n",
        "cantidadAA_P2 = df_bajo_riesgo['race'].value_counts()['African-American']\n",
        "\n",
        "propAA_P1 = cantidadAA_P1/totalP1\n",
        "propAA_P2 = cantidadAA_P2/totalP2\n",
        "\n",
        "print(\"Para P1 al dividir las {} personas en el total poblacional de {} se obtiene la proporcion muestral para P1 {}\".format(cantidadAA_P1,totalP1,propAA_P1))\n",
        "print(\"Para P2 al dividir las {} personas en el total poblacional de {} se obtiene la proporcion muestral para P2 {}\".format(cantidadAA_P2,totalP2,propAA_P2))\n"
      ]
    },
    {
      "cell_type": "markdown",
      "metadata": {
        "id": "1fPv8c83tiF_"
      },
      "source": [
        "Bajo H0 se asume que P1 = P2 entonces al calcular el estadistico se considera una proporcion del total de personas afroamericanas que en la muestra del total de P1 + P2"
      ]
    },
    {
      "cell_type": "code",
      "execution_count": null,
      "metadata": {
        "colab": {
          "base_uri": "https://localhost:8080/"
        },
        "id": "v4wkAgy4q3yt",
        "outputId": "cfbba764-e923-4a5f-a35b-fadd591e2a7d"
      },
      "outputs": [
        {
          "name": "stdout",
          "output_type": "stream",
          "text": [
            "True\n"
          ]
        }
      ],
      "source": [
        "propAA_Conjunta = (cantidadAA_P1+cantidadAA_P2) / (totalP1+totalP2)\n",
        "\n",
        "Z_cero = (propAA_P1 - propAA_P2) / ( ( propAA_Conjunta*(1-propAA_Conjunta) * ( (1/cantidadAA_P1)+(1/cantidadAA_P2) ) ) ** 0.5 )\n",
        "\n",
        "print(Z_cero > norm.ppf(.99, 0, 1))\n"
      ]
    },
    {
      "cell_type": "markdown",
      "metadata": {
        "id": "BHWkzUPgHCnc"
      },
      "source": [
        "Como el valor de Z<sub>0</sub> se encuentra en la región crítica se dice que hay evidencia suficiente como para rechazar H<sub>0</sub> con un nivel de significación de α = 0.01"
      ]
    },
    {
      "cell_type": "markdown",
      "metadata": {
        "id": "9fX9B7U5FvCW"
      },
      "source": [
        "2.   Diseñe un contraste que permita evaluar la hipótesis de que *la proporción de  mujeres en P1 es menor que la proporción de mujeres en P2*. Diseñe su contraste de manera que la probabilidad de aceptar incorrectamente esta conjetura es menor al 1%. Exponga con claridad la hipótesis, la región crítica, y la decisión que corresponde tomar. Justifique su elección de H1. "
      ]
    },
    {
      "cell_type": "markdown",
      "metadata": {
        "id": "nyP7EnGVM9rv"
      },
      "source": [
        "Las hipotesis a considerar son: \n",
        "\n",
        "*   H<sub>0</sub> : P1 = P2 \n",
        "*   H<sub>1</sub> : P1 < P2\n",
        "\n",
        "Como rechazar la hipotesis de P1 = P2 abre la discusion sobre sesgos en la IA en cuanto a un factor protegido, se toma la decision de asignar dicha igualdad a H<sub>0</sub>. Por otro lado H<sub>1</sub> modela la desigualdad deseada y ejempifica el sesgo que se quiere evitar. \n",
        "\n",
        "Mientras que el estadistico de contraste es:\n",
        "\n",
        "![image.png](data:image/png;base64,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)"
      ]
    },
    {
      "cell_type": "markdown",
      "metadata": {
        "id": "TQUlrYTANb95"
      },
      "source": [
        "Para realizar un test sobre H<sub>0</sub>, este se asume verdadero. Ademas para que el error tipo 1 sea menor al 1% se considera una significancia del 0,01. Entonces la region critica es: \n",
        "\n",
        "*   Z<sub>0</sub> < Z<sub>0.99</sub> \n",
        "\n",
        "\n",
        "\n",
        "\n",
        "Donde Z<sub>0</sub> es Z asumiendo H<sub>0</sub> verdadero, es decir: \\\\\n",
        "![image.png](data:image/png;base64,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)\n",
        "\\\n",
        "Notar que Z<sub>0.99</sub> es Z<sub>1-α</sub> con el valor adecuado de significacion "
      ]
    },
    {
      "cell_type": "code",
      "execution_count": null,
      "metadata": {
        "colab": {
          "base_uri": "https://localhost:8080/"
        },
        "id": "rIKREPtsPCWO",
        "outputId": "0800bb73-d0c0-4f7e-a8e4-3e3c70df38af"
      },
      "outputs": [
        {
          "name": "stdout",
          "output_type": "stream",
          "text": [
            "Para P1 al dividir las 151 personas en el total poblacional de 1144 se obtiene la proporcion muestral para P1 0.131993006993007\n",
            "Para P2 al dividir las 699 personas en el total poblacional de 3421 se obtiene la proporcion muestral para P2 0.20432622040339082\n",
            "False\n"
          ]
        }
      ],
      "source": [
        "totalP1 = df_alto_riesgo.shape[0]\n",
        "totalP2 = df_bajo_riesgo.shape[0]\n",
        "\n",
        "cantidadM_P1 = df_alto_riesgo['sex'].value_counts()['Female']\n",
        "cantidadM_P2 = df_bajo_riesgo['sex'].value_counts()['Female']\n",
        "\n",
        "propM_P1 = cantidadM_P1/totalP1\n",
        "propM_P2 = cantidadM_P2/totalP2\n",
        "\n",
        "print(\"Para P1 al dividir las {} personas en el total poblacional de {} se obtiene la proporcion muestral para P1 {}\".format(cantidadM_P1,totalP1,propM_P1))\n",
        "print(\"Para P2 al dividir las {} personas en el total poblacional de {} se obtiene la proporcion muestral para P2 {}\".format(cantidadM_P2,totalP2,propM_P2))\n",
        "\n",
        "propM_Conjunta = (cantidadM_P1+cantidadM_P2) / (totalP1+totalP2)\n",
        "\n",
        "Z_cero = (propM_P1 - propM_P2) / ( ( propM_Conjunta*(1-propM_Conjunta) * ( (1/cantidadM_P1)+(1/cantidadM_P2) ) ) ** 0.5 )\n",
        "\n",
        "print(Z_cero < norm.ppf(.01, 0, 1))"
      ]
    },
    {
      "cell_type": "markdown",
      "metadata": {
        "id": "Kbe7myvSQK_6"
      },
      "source": [
        "Como el valor de Z<sub>0</sub> no se encuentra en la region critica no hay evidencia suficiente para rechazar H<sub>0</sub> con un nivel de significacion de α = 0.01."
      ]
    },
    {
      "cell_type": "markdown",
      "metadata": {
        "id": "J0DOniuPRGJp"
      },
      "source": [
        "## B) Eficacia de la IA según Raza, Edad, y Sexo"
      ]
    },
    {
      "cell_type": "markdown",
      "metadata": {
        "id": "H8up2wMnRLnp"
      },
      "source": [
        "Considere primero el nivel de riesgo numérico que el algoritmo asignó a la población de personas que se sabe que no-reincidieron (claramente, asignar un puntaje alto a estas personas es un error de la máquina). Queremos determinar si *existe evidencia para concluir que el puntaje medio que la máquina asigna a personas de algún grupo protegido es mayor que el puntaje medio que la máquina asigna a personas de un grupo de control*. "
      ]
    },
    {
      "cell_type": "markdown",
      "metadata": {
        "id": "dbMricsZPGTk"
      },
      "source": [
        "1. Diseñe un contraste que permita determinar si el puntaje medio que la máquina asigna a personas afroamericanas no-reincidentes es mayor que el puntaje medio que la máquina asigna a personas de raza blanca no-reincidentes. Exponga con claridad sus hipótesis, indicando los criterios que utilizó para elegir H1 (favor lea bien el párrafo de más arriba). Indique la decisión que tomaría a partir del p-valor del contraste."
      ]
    },
    {
      "cell_type": "markdown",
      "metadata": {
        "id": "EuPcJG29PPlB"
      },
      "source": [
        "Como se estableció en el enunciado de la pregunta, lo que se quiere demostrar es si la máquina asigna a personas de algún grupo protegido (en este caso afroamericanos) es mayor que el puntaje medio que la máquina asigna a personas de algún grupo de control (en este caso personas de raza blanca). Por esta razón la hipótesis nula es que la máquina **no** asigna un puntaje mayor a los afroamericanos, es decir que les asigna un puntaje menor al puntaje asignado a las personas de raza blanca. Se formulan las hipótesis de esta manera dado que no genera polémica continuar aceptando la hipótesis nula, y es la que es más grave de rechazar incorrectamente. Si es que llamamos $A$ a el puntaje medio asignado a afroamericanos, y $C$ el puntaje medio asignado al grupo de control, las hipótesis del contraste queda de la siguiente manera:\n",
        "\n",
        "* $H_0: A < C$\n",
        "\n",
        "* $H_1: A \\geq C$\n",
        "\n",
        "Lo cual se puede analizar como:\n",
        "\n",
        "* $H_0: A < C $\n",
        "\n",
        "* $H_1: A = C$\n",
        "\n",
        "Para el contraste, se asumirá H<sub>0</sub> como verdadera. Se aceptará una significancia de hasta 0.01 en el p-valor del contraste. Si es que es mayor a esto se concluye que no hay evidencia suficiene para rechazar H<sub>0</sub>. Se seguirá utilizando $\\alpha=0.01.$\n",
        "\n",
        "Entonces el estadístico de contraste corresponde a $Z_0 = \\frac{(\\overline{A} - \\overline{C})}{\\sqrt{\\frac{\\sigma_{A}^{2}}{n_A}}+\\frac{\\sigma_{C}^{2}}{n_C}}$\n",
        "\n",
        "Se asume varianza conocida, correspondiente a la varianza de la muestra.\n",
        "\n",
        "Asumiendo $H_0$ verdadera, la región crítica corresponde a $Z_0 > z_\\alpha$"
      ]
    },
    {
      "cell_type": "code",
      "execution_count": null,
      "metadata": {
        "colab": {
          "base_uri": "https://localhost:8080/"
        },
        "id": "8it_ZjZQPSti",
        "outputId": "b6ae8f37-2f95-4a4f-cb66-fdb96b625781"
      },
      "outputs": [
        {
          "name": "stdout",
          "output_type": "stream",
          "text": [
            "\n",
            " ... Raza .... \n",
            "Estadístico de contraste dentro de la región crítica:\n",
            "True\n"
          ]
        }
      ],
      "source": [
        "print(\"\\n ... Raza .... \")\n",
        "df_afroamericanos = df[(df['race']=='African-American') & (df['two_year_recid']!=1)]#afroamericanos y no reincidentes\n",
        "df_control = df[(df['race']=='Caucasian') & (df['two_year_recid']!=1)]#blancos y no reincidentes\n",
        "\n",
        "total_afroamericanos = len(df_afroamericanos)\n",
        "total_control = len(df_control)\n",
        "#para ver el puntaje numérico asignado por la máquina, se convierte el valor de riesgo a número\n",
        "df_afroamericanos['v_score_text'] = df_afroamericanos['v_score_text'].replace(['Low', 'Medium', 'High'], [0, 1, 2])\n",
        "df_control['v_score_text'] = df_control['v_score_text'].replace(['Low', 'Medium', 'High'], [0, 1, 2])\n",
        "\n",
        "\n",
        "#luego se obtienen los vaores medios de cada uno junto con las varianzas\n",
        "media_afroamericanos = df_afroamericanos['v_score_text'].mean()\n",
        "media_control = df_control['v_score_text'].mean()\n",
        "varianza_afroamericanos = (df_afroamericanos['v_score_text'].std())**2\n",
        "varianza_control = (df_control['v_score_text'].std())**2\n",
        "\n",
        "Z_0 = (media_afroamericanos - media_control)/((varianza_afroamericanos/total_afroamericanos)+(varianza_control/total_control))**0.5\n",
        "print(\"Estadístico de contraste dentro de la región crítica:\")\n",
        "print(Z_0 > norm.ppf(.99, 0, 1))"
      ]
    },
    {
      "cell_type": "markdown",
      "metadata": {
        "id": "XcP-mfOMPadp"
      },
      "source": [
        "Con esto se concluye que sí hay suficiente evidencia para rechazar $H_0$, es decir, sí se le asigna un puntaje mayor a las personas afroamericanas no-reincidentes.\n"
      ]
    },
    {
      "cell_type": "markdown",
      "metadata": {
        "id": "uwODoNBEPdsY"
      },
      "source": [
        "2. Diseñe un contraste que permita determinar si el puntaje medio que la máquina asigna a mujeres no-reincidentes es menor que el puntaje medio que la máquina asigna a hombres no-reincidentes. Exponga con claridad sus hipótesis, indicando los criterios que utilizó para elegir H1 (favor lea bien el párrafo inicial). Indique la decisión que tomaría a partir del p-valor del contraste."
      ]
    },
    {
      "cell_type": "markdown",
      "metadata": {
        "id": "qUp0Jp2_PjxK"
      },
      "source": [
        "Lo que se quiere determinar es si el puntaje medio asignado a mujeres no-reincidentes por la máquina es menor al puntaje asignado a hombres no-reincidentes. Sin embargo, como se establece en el párrafo inicial, el grupo protegido correspondería a las mujeres no-reincidentes y el grupo de control correspondería a los hombres no-reincidentes. Por esta razón, la hipótesis nula corresponde a que la máquina le asigna un puntaje menor a las mujeres no reincidentes, dado que esta hipótesis es grave de rechazar incorrectamente y es la aceptada actualmente. Si $M$ corresponde a el puntaje medio asignado por la máquina al grupo protegido, y $C$ corresponde al puntaje medio asignado por la máquina al grupo de control, las hipótesis quedan formuladas de la siguiente manera:\n",
        "* $H_0: M < C $\n",
        "\n",
        "* $H_1: M \\geq C$\n",
        "\n",
        "Lo cual se puede analizar como:\n",
        "\n",
        "* $H_0: M < C$\n",
        "\n",
        "* $H_1: M = C$\n",
        "\n",
        "Asumiendo varianza conocida correspondiente a la varianza de la muestra, el estadístico de contraste corresponde a $Z_0 = \\frac{(\\overline{M} - \\overline{C})}{\\sqrt{\\frac{\\sigma_{M}^{2}}{n_M}}+\\frac{\\sigma_{C}^{2}}{n_C}}$\n",
        "\n",
        "Luego, asumiendo que $H_0$ es verdadera, la región crítica corresponde a $Z_0 > z_\\alpha$\n",
        "\n"
      ]
    },
    {
      "cell_type": "code",
      "execution_count": null,
      "metadata": {
        "colab": {
          "base_uri": "https://localhost:8080/"
        },
        "id": "y_q08CziPhOa",
        "outputId": "ffbe85fa-7ff5-4a56-dffd-b32f91e28ddc"
      },
      "outputs": [
        {
          "name": "stdout",
          "output_type": "stream",
          "text": [
            "\n",
            " ... Sexo .... \n",
            "Estadístico de contraste dentro de la región crítica:\n",
            "False\n"
          ]
        }
      ],
      "source": [
        "print(\"\\n ... Sexo .... \")\n",
        "df_mujeres = df[(df['sex']=='Female') & (df['two_year_recid']!=1)]\n",
        "df_control = df[(df['sex']!='Female') & (df['two_year_recid']!=1)]\n",
        "\n",
        "total_mujeres = len(df_mujeres)\n",
        "total_control = len(df_control)\n",
        "#para ver el puntaje numérico asignado por la máquina, se convierte el valor de riesgo a número\n",
        "df_mujeres['v_score_text'] = df_mujeres['v_score_text'].replace(['Low', 'Medium', 'High'], [0, 1, 2])\n",
        "df_control['v_score_text'] = df_control['v_score_text'].replace(['Low', 'Medium', 'High'], [0, 1, 2])\n",
        "\n",
        "\n",
        "#luego se obtienen los vaores medios de cada uno junto con las varianzas\n",
        "media_mujeres = df_mujeres['v_score_text'].mean()\n",
        "media_control = df_control['v_score_text'].mean()\n",
        "varianza_mujeres = (df_mujeres['v_score_text'].std())**2\n",
        "varianza_control = (df_control['v_score_text'].std())**2\n",
        "\n",
        "Z_0 = (media_mujeres - media_control)/((varianza_afroamericanos/total_mujeres)+(varianza_control/total_control))**0.5\n",
        "print(\"Estadístico de contraste dentro de la región crítica:\")\n",
        "print(Z_0 > norm.ppf(.99, 0, 1))\n"
      ]
    },
    {
      "cell_type": "markdown",
      "metadata": {
        "id": "PbNYmP-8PtDr"
      },
      "source": [
        "Con esto se concluye que no hay evidencia suficiente para rechazar $H_0$"
      ]
    },
    {
      "cell_type": "markdown",
      "metadata": {
        "id": "kpdE6WAZPt-S"
      },
      "source": [
        "3. Diseñe un contraste que permita determinar si el puntaje medio que la máquina asigna a personas menores de 25 años es mayor que el puntaje medio que la máquina asigna al resto de las personas. Exponga con claridad sus hipótesis, indicando los criterios que utilizó para elegir H1. Indique la decisión que tomaría a partir del p-valor del contraste."
      ]
    },
    {
      "cell_type": "markdown",
      "metadata": {
        "id": "aiq2rbVUP0Ck"
      },
      "source": [
        "Ahora el grupo protegido corresponde a las personas menores de 25 años, y el grupo de control al resto de la población, y se quiere determinar que el puntaje medio asignado al grupo portegido es mayor al puntaje medio asignado al grupo de control, razón por la que esta será la hipótesis alternativa. La hipótesis nula corresponderá a que el puntaje asignado al grupo protegido es **menor** que el puntaje medio asignado al grupo de control, dado que la hipótesis que es más grave rechazar incorrectamente. Siendo $J$ el puntaje medio asignado a las personas menores de 25 años y $C$ el puntaje medio asignado al resto de las personas, las hipótesis del contraste son las siguientes:\n",
        "\n",
        "* $H_0: J < C $\n",
        "\n",
        "* $H_1: J \\geq C$\n",
        "\n",
        "Lo cual se puede analizar como:\n",
        "\n",
        "* $H_0: J < C$\n",
        "\n",
        "* $H_1: J = C$\n",
        "\n",
        "Asumiendo varianza conocida correspondiente a la varianza de la muestra, el estadístico de contraste corresponde a $Z_0 = \\frac{(\\overline{J} - \\overline{C})}{\\sqrt{\\frac{\\sigma_{J}^{2}}{n_J}}+\\frac{\\sigma_{C}^{2}}{n_C}}$\n",
        "\n",
        "Luego, asumiendo que $H_0$ es verdadera, la región crítica corresponde a $Z_0 > z_\\alpha$"
      ]
    },
    {
      "cell_type": "code",
      "execution_count": null,
      "metadata": {
        "colab": {
          "base_uri": "https://localhost:8080/"
        },
        "id": "otBBJt3PQ8Ac",
        "outputId": "54959fa1-7d38-471a-804d-24f6742558cb"
      },
      "outputs": [
        {
          "name": "stdout",
          "output_type": "stream",
          "text": [
            "\n",
            " ... Edad .... \n",
            "Estadístico de contraste dentro de la región crítica:\n",
            "True\n"
          ]
        }
      ],
      "source": [
        "print(\"\\n ... Edad .... \")\n",
        "df_jovenes = df[(df['age_cat']=='Less than 25') & (df['two_year_recid']!=1)]#jovenes y no reincidentes\n",
        "df_control = df[(df['age_cat']!='Less than 25') & (df['two_year_recid']!=1)]#no jovenes y no reincidentes\n",
        "\n",
        "total_jovenes = len(df_jovenes)\n",
        "total_control = len(df_control)\n",
        "#para ver el puntaje numérico asignado por la máquina, se convierte el valor de riesgo a número\n",
        "df_jovenes['v_score_text'] = df_jovenes['v_score_text'].replace(['Low', 'Medium', 'High'], [0, 1, 2])\n",
        "df_control['v_score_text'] = df_control['v_score_text'].replace(['Low', 'Medium', 'High'], [0, 1, 2])\n",
        "\n",
        "\n",
        "#luego se obtienen los vaores medios de cada uno junto con las varianzas\n",
        "media_jovenes = df_jovenes['v_score_text'].mean()\n",
        "media_control = df_control['v_score_text'].mean()\n",
        "varianza_jovenes = (df_jovenes['v_score_text'].std())**2\n",
        "varianza_control = (df_control['v_score_text'].std())**2\n",
        "\n",
        "Z_0 = (media_jovenes - media_control)/((varianza_afroamericanos/total_jovenes)+(varianza_control/total_control))**0.5\n",
        "print(\"Estadístico de contraste dentro de la región crítica:\")\n",
        "print(Z_0 > norm.ppf(.99, 0, 1))\n",
        "\n"
      ]
    },
    {
      "cell_type": "markdown",
      "metadata": {
        "id": "Yuvz6QMDRMET"
      },
      "source": [
        "Con esto se concluye que hay evidencia suficiente para rechazar $H_0$"
      ]
    },
    {
      "cell_type": "markdown",
      "metadata": {
        "id": "PNFraNBsRSOE"
      },
      "source": [
        "Considere ahora la predicción discreta del algoritmo. Supongamos que medimos la eficacia del algoritmo usando la probabilidad de que arroje un ***falso positivo***, es decir, la probabilidad de que clasifique una persona como de Alto Riesgo pero que la persona no reincida ('two_year_recid' != 1)."
      ]
    },
    {
      "cell_type": "markdown",
      "metadata": {
        "id": "nXoWttbARbWv"
      },
      "source": [
        "4.   Para cada uno de los grupos protegidos considerados antes (jóvenes, mujeres, afroamericanos), diseñe un contraste que permita determinar si la proporción de falsos positivos es mayor en ese grupo respecto de su respectivo grupo de control. Indique la decisión que tomaría a partir del p-valor del contraste."
      ]
    },
    {
      "cell_type": "markdown",
      "metadata": {
        "id": "3rJsrU-OThyw"
      },
      "source": [
        "La decision final sobre cada contraste se decidira segun su p-valor. Se decide optar por mas holgura, aceptando una significancia de hasta  0.1 en su p-valor, de ser mayor a esto no se considerara suficiente la evidencia como para rechazar H<sub>0</sub>, es decir la igualdad de proporcion de falsos positivos en el grupo protegido con el de control.\n",
        "\n",
        "En honor a la cohesion del informe se continuara realizando un analisis de contraste considerando una significancia α=0.01 ademas del analisis mencionado en el parrafo anterior. Esto permite tener una vision global del trabajo. "
      ]
    },
    {
      "cell_type": "code",
      "execution_count": null,
      "metadata": {
        "colab": {
          "base_uri": "https://localhost:8080/"
        },
        "id": "zDn8Ev1cRg_e",
        "outputId": "a8879364-5d18-4bc7-d823-5eac490fe203"
      },
      "outputs": [
        {
          "name": "stdout",
          "output_type": "stream",
          "text": [
            "\n",
            "#### Predicciones Categóricas ####\n",
            "FFP 0.04812054439403759\n"
          ]
        }
      ],
      "source": [
        "print(\"\\n#### Predicciones Categóricas ####\")\n",
        "my_alpha = 0.01\n",
        "\n",
        "####FALSOS POSITIVOS GLOBALES\n",
        "n_FP = len(df.loc[(df['two_year_recid'] != 1) & (df['score_text'] == 'High'),['name']])\n",
        "frac_FP = n_FP/len(df)\n",
        "print(\"FFP\", frac_FP )\n"
      ]
    },
    {
      "cell_type": "code",
      "execution_count": null,
      "metadata": {
        "colab": {
          "base_uri": "https://localhost:8080/"
        },
        "id": "2A7XhpYGir1v",
        "outputId": "f9034a54-72d1-462c-82e9-e999e90e6810"
      },
      "outputs": [
        {
          "name": "stdout",
          "output_type": "stream",
          "text": [
            "\n",
            " ... Raza .... \n",
            "La premisa 'Existe evidencia para rechazar H0  con significancia 0.01' es: False\n",
            "P valor = 0.12195899071854455\n"
          ]
        }
      ],
      "source": [
        "print(\"\\n ... Raza .... \")\n",
        "df_afroamericanos = df[df['race']=='African-American']\n",
        "df_control_race = df[df['race']=='Caucasian']\n",
        "\n",
        "n_FalsePos_afroamericanos = len(df_afroamericanos.loc[(df_afroamericanos['two_year_recid'] != 1) & (df_afroamericanos['score_text'] == 'High'),['name']])\n",
        "n_FalsePos_control_race = len(df_control_race.loc[(df_control_race['two_year_recid'] != 1) & (df_control_race['score_text'] == 'High'),['name']])\n",
        "\n",
        "################################################################################################\n",
        "\n",
        "totalP1 = df_afroamericanos.shape[0]\n",
        "totalP2 = df_control_race.shape[0]\n",
        "\n",
        "prop_P1 = n_FalsePos_afroamericanos/totalP1\n",
        "prop_P2 = n_FalsePos_control_race/totalP2\n",
        "\n",
        "prop_Conjunta = (n_FalsePos_afroamericanos+n_FalsePos_control_race) / (totalP1+totalP2)\n",
        "\n",
        "Z_cero = (prop_P1 - prop_P2) / ( ( prop_Conjunta*(1-prop_Conjunta) * ( (1/n_FalsePos_afroamericanos)+(1/n_FalsePos_control_race) ) ) ** 0.5 )\n",
        "\n",
        "print(\"La premisa \\'Existe evidencia para rechazar H0  con significancia 0.01\\' es: {}\".format(Z_cero > norm.ppf(1-my_alpha, 0, 1)))\n",
        "\n",
        "# P valor, para que valor de alpha, norm.ppf va a ser igual a Z_cero\n",
        "P_valor_afroamericanos = 1-norm.cdf(Z_cero)\n",
        "print(\"P valor = {}\".format(P_valor_afroamericanos))\n"
      ]
    },
    {
      "cell_type": "markdown",
      "metadata": {
        "id": "uTtEKYXqUuuA"
      },
      "source": [
        "Como se estipula inicialmente, dado que el p-valor muestra una significancia mayor a 0.1, no se considera problemas de sesgos en la IA respecto a esta variable protegida, es decir, no se considera evidencia suficiente para rechazar H<sub>0</sub>."
      ]
    },
    {
      "cell_type": "code",
      "execution_count": null,
      "metadata": {
        "colab": {
          "base_uri": "https://localhost:8080/"
        },
        "id": "hK3JbYPHjAaD",
        "outputId": "8b359cd2-b2d3-44bf-8cf9-b829475cd883"
      },
      "outputs": [
        {
          "name": "stdout",
          "output_type": "stream",
          "text": [
            "\n",
            " ... Sexo .... \n",
            "La premisa 'Existe evidencia para rechazar H0  con significancia 0.01' es: False\n",
            "P valor = 0.5456918447450494\n"
          ]
        }
      ],
      "source": [
        "print(\"\\n ... Sexo .... \")\n",
        "df_mujeres = df[df['sex']=='Female']\n",
        "df_control_sex = df[df['sex']=='Male']\n",
        "n_FalsePos_mujeres = len(df_mujeres.loc[(df_mujeres['two_year_recid'] != 1) & (df_mujeres['score_text'] == 'High'),['name']])\n",
        "n_FalsePos_control_sex = len(df_control_sex.loc[(df_control_sex['two_year_recid'] != 1) & (df_control_sex['score_text'] == 'High'),['name']])\n",
        "\n",
        "totalP1 = df_mujeres.shape[0]\n",
        "totalP2 = df_control_sex.shape[0]\n",
        "\n",
        "prop_P1 = n_FalsePos_mujeres/totalP1\n",
        "prop_P2 = n_FalsePos_control_sex/totalP2\n",
        "\n",
        "prop_Conjunta = (n_FalsePos_mujeres+n_FalsePos_control_sex) / (totalP1+totalP2)\n",
        "\n",
        "Z_cero = (prop_P1 - prop_P2) / ( ( prop_Conjunta*(1-prop_Conjunta) * ( (1/n_FalsePos_mujeres)+(1/n_FalsePos_control_sex) ) ) ** 0.5 )\n",
        "\n",
        "print(\"La premisa \\'Existe evidencia para rechazar H0  con significancia 0.01\\' es: {}\".format(Z_cero > norm.ppf(1-my_alpha, 0, 1)))\n",
        "\n",
        "# P valor, para que valor de alpha, norm.ppf va a ser igual a Z_cero\n",
        "P_valor_mujeres = 1-norm.cdf(Z_cero)\n",
        "print(\"P valor = {}\".format(P_valor_mujeres))"
      ]
    },
    {
      "cell_type": "markdown",
      "metadata": {
        "id": "dd1-l9c3V6df"
      },
      "source": [
        "Dado que el p-valor muestra una significancia mayor a 0.1, no se consideran problemas de sesgos en la IA respecto a esta variable protegida, es decir, no se considera evidencia suficiente para rechazar H<sub>0</sub>."
      ]
    },
    {
      "cell_type": "code",
      "execution_count": null,
      "metadata": {
        "colab": {
          "base_uri": "https://localhost:8080/"
        },
        "id": "VAmIttX9jI7b",
        "outputId": "6549f6c8-9a95-4aec-df5c-0066e94578a3"
      },
      "outputs": [
        {
          "name": "stdout",
          "output_type": "stream",
          "text": [
            "\n",
            " ... Edad .... \n",
            "La premisa 'Existe evidencia para rechazar H0  con significancia 0.01' es: False\n",
            "P valor = 0.0709267073739861\n"
          ]
        }
      ],
      "source": [
        "print(\"\\n ... Edad .... \")\n",
        "df_menores_25 = df[(df['age_cat']=='Less than 25')]\n",
        "df_control_mayores = df[df['age_cat'].isin(['25 - 45','Greater than 45'])]\n",
        "n_FalsePos_menores_25 = len(df_menores_25.loc[(df_menores_25['two_year_recid'] != 1) & (df_menores_25['score_text'] == 'High'),['name']])\n",
        "n_FalsePos_control_mayores = len(df_control_mayores.loc[(df_control_mayores['two_year_recid'] != 1) & (df_control_mayores['score_text'] == 'High'),['name']])\n",
        "\n",
        "\n",
        "totalP1 = df_menores_25.shape[0]\n",
        "totalP2 = df_control_mayores.shape[0]\n",
        "\n",
        "prop_P1 = n_FalsePos_menores_25/totalP1\n",
        "prop_P2 = n_FalsePos_control_mayores/totalP2\n",
        "\n",
        "prop_Conjunta = (n_FalsePos_menores_25+n_FalsePos_control_mayores) / (totalP1+totalP2)\n",
        "\n",
        "Z_cero = (prop_P1 - prop_P2) / ( ( prop_Conjunta*(1-prop_Conjunta) * ( (1/n_FalsePos_menores_25)+(1/n_FalsePos_control_mayores) ) ) ** 0.5 )\n",
        "\n",
        "\n",
        "print(\"La premisa \\'Existe evidencia para rechazar H0  con significancia 0.01\\' es: {}\".format(Z_cero > norm.ppf(1-my_alpha, 0, 1)))\n",
        "\n",
        "# P valor, para que valor de alpha, norm.ppf va a ser igual a Z_cero\n",
        "P_valor_menores_25 = 1-norm.cdf(Z_cero)\n",
        "print(\"P valor = {}\".format(P_valor_menores_25))"
      ]
    },
    {
      "cell_type": "markdown",
      "metadata": {
        "id": "jnaZLXqpWBDT"
      },
      "source": [
        "Como su P-valor deja tolera una significancia maxima de alrededor de 0.07, considerando que esta es la que da paso a mayor seguridad de la relacion entre las proporciones, se considera la evidencia suficiente como para rechazar H<sub>0</sub>."
      ]
    }
  ],
  "metadata": {
    "colab": {
      "collapsed_sections": [],
      "name": "Taller8_I_2022_ENUNCIADOS.ipynb",
      "provenance": [],
      "toc_visible": true
    },
    "kernelspec": {
      "display_name": "Python 3",
      "name": "python3"
    },
    "language_info": {
      "name": "python"
    }
  },
  "nbformat": 4,
  "nbformat_minor": 0
}
